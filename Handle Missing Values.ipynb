{
 "cells": [
  {
   "cell_type": "markdown",
   "id": "e50b8e39-e792-4ce6-955f-74f782c2a4a3",
   "metadata": {},
   "source": [
    " # Handling Missing Values in Data (Numerical & Categorical Features)"
   ]
  },
  {
   "cell_type": "markdown",
   "id": "6dda0004-5854-499d-8a6b-0d977564d559",
   "metadata": {},
   "source": [
    "## What are missing Values?"
   ]
  },
  {
   "cell_type": "markdown",
   "id": "88ec2ecf-d760-4b82-85ba-4aee09058de4",
   "metadata": {},
   "source": [
    " Missing values are empty or null entries in a dataset where a value is expected but not recorded. These gaps, often appearing as blank cells or placeholders like \"NaN,\" \"NA,\" or \"NULL,\" can significantly affect the accuracy and reliability of data analysis and machine learning models.\n",
    "## Common causes of missing data\n",
    "Missing data is a common issue in data science, with a variety of potential causes:\n",
    "- **Human error:** Mistakes during data collection or entry are a frequent cause of missing values.\n",
    "- **Technical problems:** Equipment or sensor failures during data collection or errors during data transfer can lead to missing data.\n",
    "- **Non-response:** In surveys, participants may refuse to answer certain questions due to their sensitive nature, such as income or personal health.\n",
    "- **Study attrition:** In longitudinal studies, participants may drop out before the study is completed, resulting in missing data for later time points.\n",
    "- **Missing by design:** Sometimes, a data collection strategy is intentionally designed to produce missing values. \n"
   ]
  },
  {
   "cell_type": "markdown",
   "id": "f1e693e9-61a8-47e2-b86b-813d2df2a5f7",
   "metadata": {},
   "source": [
    "## 🛠 1. Understanding Types of Missing Data"
   ]
  },
  {
   "cell_type": "markdown",
   "id": "651e7d9c-14da-425c-8f2c-a0cd3894e365",
   "metadata": {},
   "source": [
    "Before handling missing values, it is crucial to understand why they occur. There are three main types:\n",
    "\n",
    " 🔹 A. **Missing Completely at Random (MCAR)**\n",
    "\n",
    "- Missing values occur randomly without any pattern.\n",
    "\n",
    "- Example: A survey respondent forgets to answer a question by accident.\n",
    "\n",
    "- **Solution:** Dropping missing values (dropna()) is safe if the missing percentage is low.\n",
    "\n",
    "🔹 B. **Missing at Random (MAR)**\n",
    "\n",
    "- The missing data is related to some known variables but not the missing variable itself.\n",
    "\n",
    "- Example: People with higher incomes are less likely to report their salaries in a survey.\n",
    "\n",
    "- **Solution:** Use fillna() with an appropriate imputation method (mean, median, or regression-based imputation).\n",
    "\n",
    "🔹 C. **Missing Not at Random (MNAR)**\n",
    "\n",
    "- Missing values depend on the missing variable itself.\n",
    "\n",
    "- Example: People with low salaries are more likely to hide their income.\n",
    "\n",
    "- **Solution:** Imputation is tricky. Try to understand the cause before deciding on a method."
   ]
  },
  {
   "cell_type": "markdown",
   "id": "5b21a79d-2f95-4af9-b206-1e32ce3cc1f4",
   "metadata": {},
   "source": [
    "## 🛠 2. How to Detect Missing Values?\n",
    "Before handling missing data, you need to check for it.\n",
    "\n",
    "**✅ Check for Missing Data in Pandas**\n"
   ]
  },
  {
   "cell_type": "code",
   "execution_count": 64,
   "id": "d81fc5b5-c3da-4b68-9f3c-65b4f27959e7",
   "metadata": {},
   "outputs": [
    {
     "name": "stdout",
     "output_type": "stream",
     "text": [
      "Name          1\n",
      "Age           2\n",
      "Salary        2\n",
      "Department    1\n",
      "dtype: int64\n",
      "Percentage of Missing Values:\n",
      " Name          20.0\n",
      "Age           40.0\n",
      "Salary        40.0\n",
      "Department    20.0\n",
      "dtype: float64\n"
     ]
    }
   ],
   "source": [
    "import pandas as pd\n",
    "import warnings\n",
    "warnings.filterwarnings('ignore')\n",
    "# Sample DataFrame\n",
    "\n",
    "data = {\n",
    "   'Name': ['Alice', 'Bob', 'Charlie', None, 'David'],\n",
    "    'Age': [25, None, 30, 22, None],\n",
    "    'Salary': [50000, 60000, None, 70000, None],\n",
    "    'Department': ['HR', 'Finance', 'IT', 'Marketing', None]\n",
    "}\n",
    "\n",
    "\n",
    "df = pd.DataFrame(data)\n",
    "\n",
    "# Count missing values in each column\n",
    "print(df.isnull().sum())\n",
    "\n",
    "# Percentage of missing values\n",
    "print(\"Percentage of Missing Values:\\n\", (df.isnull().sum() / len(df) * 100))\n"
   ]
  },
  {
   "cell_type": "markdown",
   "id": "f50b2249-c4af-4aba-8bea-cc9bb3887671",
   "metadata": {},
   "source": [
    "# 🛠 3. Techniques to Handle Missing  Numerical Data\n",
    "Now, let's explore different methods to handle missing values.\n",
    "\n",
    "  ## 🔹 **A. Drop Missing Values (dropna())**\n",
    "\n",
    "**Best when:** Missing data is low (<5%) and randomly distributed (MCAR)."
   ]
  },
  {
   "cell_type": "code",
   "execution_count": 65,
   "id": "dec57116-83cf-4784-afe2-b2bf036f140a",
   "metadata": {},
   "outputs": [],
   "source": [
    "df_cleaned = df.dropna()  # Drops rows with missing values\n"
   ]
  },
  {
   "cell_type": "markdown",
   "id": "ff7631e4-7fc4-459a-84ec-39596a579a1d",
   "metadata": {},
   "source": [
    "✅ **Pros:** Simple, avoids bias.\n",
    "\n",
    "❌ **Cons:** Reduces dataset size, may lose valuable data.\n",
    "\n",
    "➡ **Alternative:** Drop columns if many values are missing."
   ]
  },
  {
   "cell_type": "code",
   "execution_count": 66,
   "id": "7da9469a-e07c-4c7b-9388-455305f42541",
   "metadata": {},
   "outputs": [],
   "source": [
    "df.drop(columns=['Department'], inplace=True)  # Drops the entire column\n"
   ]
  },
  {
   "cell_type": "markdown",
   "id": "89cf9b42-8169-4f5b-a50a-98a74aaa73e4",
   "metadata": {},
   "source": [
    " ## 🔹 **B. Fill Missing Values (fillna)**\n",
    "**Best when:** Missing data is not random (MAR) or removing data is not an option.\n",
    "\n",
    "1️⃣ **Fill with a Fixed Value**\n",
    "\n",
    "- Replace missing values with a constant (e.g., 0, 'Unknown')."
   ]
  },
  {
   "cell_type": "code",
   "execution_count": 67,
   "id": "1386a6f3-77ac-4e9e-a84b-5816a983e1fa",
   "metadata": {},
   "outputs": [],
   "source": [
    "df.fillna({'Name': 'Unknown', 'Age': 0}, inplace=True)\n"
   ]
  },
  {
   "cell_type": "markdown",
   "id": "b81d733e-42ba-4720-b9a3-b3c91c4be122",
   "metadata": {},
   "source": [
    "✅ Simple but not always accurate."
   ]
  },
  {
   "cell_type": "markdown",
   "id": "097c9865-4887-4e9d-96b6-feff34d294c4",
   "metadata": {},
   "source": [
    "2️⃣ **Fill with Mean, Median, or Mode**\n",
    "\n",
    " **Best for numerical data.**\n",
    "\n",
    "- Mean: Use when the data is normally distributed (no outliers).\n",
    "\n",
    "- Median: Use when the data is skewed or has outliers.\n",
    "\n",
    "- Mode: Use for categorical data (e.g., filling missing city names)."
   ]
  },
  {
   "cell_type": "code",
   "execution_count": 68,
   "id": "a98c9b0d-eb2b-46e2-86e8-c579c74abe77",
   "metadata": {},
   "outputs": [],
   "source": [
    "df['Age'].fillna(df['Age'].mean(), inplace=True)   # Mean imputation\n",
    "df['Salary'].fillna(df['Salary'].median(), inplace=True)  # Median imputation\n"
   ]
  },
  {
   "cell_type": "markdown",
   "id": "085fa83a-bcad-4feb-9d6f-450df9ea2b29",
   "metadata": {},
   "source": [
    "✅ **Pros:** Keeps data size, works well for small missing values.\n",
    "\n",
    "❌ **Cons:** Can introduce bias if missing data is not random."
   ]
  },
  {
   "cell_type": "markdown",
   "id": "dbe5852a-9167-4714-b507-3f6eb02f04e0",
   "metadata": {},
   "source": [
    "3️⃣**Forward Fill (ffill) & Backward Fill (bfill)**\n",
    "\n",
    " **Best for time-series data.**\n",
    "\n",
    "- ffill (Forward Fill): Fill missing values with the previous value.\n",
    "\n",
    "- bfill (Backward Fill): Fill missing values with the next value."
   ]
  },
  {
   "cell_type": "code",
   "execution_count": 69,
   "id": "49802401-c9b7-42b7-a28e-7c158fc61fc2",
   "metadata": {},
   "outputs": [],
   "source": [
    "df.fillna(method='ffill', inplace=True)  # Forward fill\n",
    "df.fillna(method='bfill', inplace=True)  # Backward fill\n"
   ]
  },
  {
   "cell_type": "markdown",
   "id": "874bb668-144c-4cc4-9bae-536efc5b783c",
   "metadata": {},
   "source": [
    "✅ Works well for time-dependent data.\n",
    "            \n",
    "❌ Can create unrealistic values if trend changes."
   ]
  },
  {
   "cell_type": "markdown",
   "id": "cede7ce7-dc60-4266-bce1-6911099b49aa",
   "metadata": {},
   "source": [
    "## 🔹 **C. Advanced Imputation Methods**\n",
    "**Best for large datasets with complex missing patterns.**\n",
    "\n",
    "1️⃣**K-Nearest Neighbors (KNN) Imputation**\n",
    "\n",
    "- Finds the most similar (nearest) rows and fills missing values based on them."
   ]
  },
  {
   "cell_type": "code",
   "execution_count": 70,
   "id": "a6ab8577-f250-4107-95cf-3762edabf7d6",
   "metadata": {},
   "outputs": [],
   "source": [
    "from sklearn.impute import KNNImputer\n",
    "import numpy as np\n",
    "\n",
    "imputer = KNNImputer(n_neighbors=3)\n",
    "\n",
    "df[['Age', 'Salary']] = imputer.fit_transform(df[['Age', 'Salary']])\n"
   ]
  },
  {
   "cell_type": "markdown",
   "id": "c9b3416c-67a6-44e4-95d2-3d5d1d8b32e8",
   "metadata": {},
   "source": [
    "✅ More accurate than simple imputation.\n",
    "\n",
    "❌ Computationally expensive for large datasets."
   ]
  },
  {
   "cell_type": "markdown",
   "id": "9ce66d40-7c11-4cab-b2c4-b48873278b7e",
   "metadata": {},
   "source": [
    "2️⃣ **Regression Imputation**\n",
    "- Predict missing values using regression models.\n",
    "\n",
    "- Example: Predict missing salaries using Age and Experience."
   ]
  },
  {
   "cell_type": "code",
   "execution_count": 71,
   "id": "17366093-c843-4589-bfea-a5c9da260eb3",
   "metadata": {},
   "outputs": [
    {
     "name": "stdout",
     "output_type": "stream",
     "text": [
      "Original Data with Missing Values:\n",
      "    Age  Experience   Salary\n",
      "0   25           1  25000.0\n",
      "1   30           3  30000.0\n",
      "2   35           7      NaN\n",
      "3   40          10  50000.0\n",
      "4   45          15      NaN\n",
      "5   50          20  70000.0\n",
      "6   55          25  80000.0\n",
      "7   60          30      NaN\n",
      "\n",
      "Data After Regression Imputation:\n",
      "    Age  Experience        Salary\n",
      "0   25           1  25000.000000\n",
      "1   30           3  30000.000000\n",
      "2   35           7  40798.611111\n",
      "3   40          10  50000.000000\n",
      "4   45          15  59479.166667\n",
      "5   50          20  70000.000000\n",
      "6   55          25  80000.000000\n",
      "7   60          30  90729.166667\n"
     ]
    }
   ],
   "source": [
    "import pandas as pd\n",
    "import numpy as np\n",
    "\n",
    "# Sample dataset\n",
    "np.random.seed(42)\n",
    "data = {\n",
    "    'Age': [25, 30, 35, 40, 45, 50, 55, 60],\n",
    "    'Experience': [1, 3, 7, 10, 15, 20, 25, 30],\n",
    "    'Salary': [25000, 30000, np.nan, 50000, np.nan, 70000, 80000, np.nan]\n",
    "}\n",
    "\n",
    "df = pd.DataFrame(data)\n",
    "print(\"Original Data with Missing Values:\\n\", df)\n",
    "\n",
    "# Split data into known and missing salary\n",
    "train_data = df[df['Salary'].notnull()]\n",
    "test_data = df[df['Salary'].isnull()]\n",
    "\n",
    "\n",
    "from sklearn.linear_model import LinearRegression\n",
    "\n",
    "# Features & Target\n",
    "X_train = train_data[['Age', 'Experience']]\n",
    "y_train = train_data['Salary']\n",
    "\n",
    "# Train Linear Regression\n",
    "reg = LinearRegression()\n",
    "reg.fit(X_train, y_train)\n",
    "\n",
    "# Predict missing salaries\n",
    "X_test = test_data[['Age', 'Experience']]\n",
    "predicted_salary = reg.predict(X_test)\n",
    "\n",
    "# Fill missing values\n",
    "df.loc[df['Salary'].isnull(), 'Salary'] = predicted_salary\n",
    "print(\"\\nData After Regression Imputation:\\n\", df)\n",
    "\n"
   ]
  },
  {
   "cell_type": "markdown",
   "id": "4db675da-4fad-419d-84d9-57ad333f5984",
   "metadata": {},
   "source": [
    "✅ Regression imputation uses relationships among variables → more accurate than mean/median.\n",
    "\n",
    "✅ Keeps data consistent with trends.\n",
    "\n",
    "❌ Assumes a linear relationship (may not always be true).\n",
    "\n",
    "❌ Can underestimate variability (imputed values look too \"perfect\")."
   ]
  },
  {
   "cell_type": "markdown",
   "id": "16120be3-615c-48b7-bf20-1c89d4322a93",
   "metadata": {},
   "source": [
    " ## 🔹 **D. Multiple Imputation (MICE)**\n",
    "\n",
    "**Best when multiple variables are missing in different patterns.**\n",
    "\n",
    "- MICE (Multiple Imputation by Chained Equations) fills missing values multiple times and averages results."
   ]
  },
  {
   "cell_type": "code",
   "execution_count": 72,
   "id": "17f6e675-b376-4501-87de-158e1c0b891e",
   "metadata": {},
   "outputs": [
    {
     "name": "stdout",
     "output_type": "stream",
     "text": [
      "Original Data:\n",
      "    Age  Experience   Salary\n",
      "0   25           1  25000.0\n",
      "1   30           3  30000.0\n",
      "2   35           7      NaN\n",
      "3   40          10  50000.0\n",
      "4   45          15      NaN\n",
      "5   50          20  70000.0\n",
      "6   55          25  80000.0\n",
      "7   60          30      NaN\n",
      "\n",
      "After Multiple Imputation:\n",
      "     Age  Experience        Salary\n",
      "0  25.0         1.0  25000.000000\n",
      "1  30.0         3.0  30000.000000\n",
      "2  35.0         7.0  40827.756774\n",
      "3  40.0        10.0  50000.000000\n",
      "4  45.0        15.0  59497.728638\n",
      "5  50.0        20.0  70000.000000\n",
      "6  55.0        25.0  80000.000000\n",
      "7  60.0        30.0  90642.401287\n"
     ]
    }
   ],
   "source": [
    "import pandas as pd\n",
    "import numpy as np\n",
    "from sklearn.experimental import enable_iterative_imputer  # Needed for IterativeImputer\n",
    "from sklearn.impute import IterativeImputer\n",
    "\n",
    "# Sample Dataset with Missing Values\n",
    "np.random.seed(42)\n",
    "data = {\n",
    "    'Age': [25, 30, 35, 40, 45, 50, 55, 60],\n",
    "    'Experience': [1, 3, 7, 10, 15, 20, 25, 30],\n",
    "    'Salary': [25000, 30000, np.nan, 50000, np.nan, 70000, 80000, np.nan]\n",
    "}\n",
    "df = pd.DataFrame(data)\n",
    "print(\"Original Data:\\n\", df)\n",
    "\n",
    "# Apply MICE (Multiple Imputation)\n",
    "imputer = IterativeImputer(max_iter=10, random_state=42)\n",
    "df_imputed = imputer.fit_transform(df)\n",
    "\n",
    "# Convert back to DataFrame\n",
    "df_imputed = pd.DataFrame(df_imputed, columns=df.columns)\n",
    "print(\"\\nAfter Multiple Imputation:\\n\", df_imputed)\n",
    "\n"
   ]
  },
  {
   "cell_type": "markdown",
   "id": "99df4ced-50b2-48a6-90c3-ca2595410e2d",
   "metadata": {},
   "source": [
    "✔ Preserves relationships between variables.\n",
    "\n",
    "✔ Reflects uncertainty (not a single “perfect guess”).\n",
    "\n",
    "✔ Produces statistically valid estimates.\n",
    "\n",
    "❌ More computationally expensive than mean/median.\n",
    "\n",
    "❌ Slightly complex to implement."
   ]
  },
  {
   "cell_type": "markdown",
   "id": "998d9f8d-1a21-45ab-b6fa-cedc0b0904db",
   "metadata": {},
   "source": [
    "# 🔍 Handling Missing Values in Categorical Data\n",
    "Handling missing values in categorical variables (e.g., \"City\", \"Gender\", \"Product Category\") is different from numerical data. The goal is to retain meaningful patterns without introducing bias."
   ]
  },
  {
   "cell_type": "markdown",
   "id": "90b5aa3d-85ed-49a7-ae71-efe289500d63",
   "metadata": {},
   "source": [
    " ## 🛠 **1. Identify Missing Values in Categorical Data**\n",
    "\n",
    "Before deciding on a method, check the number and percentage of missing values."
   ]
  },
  {
   "cell_type": "code",
   "execution_count": 73,
   "id": "bc774888-3682-4988-9694-063642eff898",
   "metadata": {},
   "outputs": [
    {
     "name": "stdout",
     "output_type": "stream",
     "text": [
      "Name      0\n",
      "Gender    2\n",
      "City      1\n",
      "dtype: int64\n",
      "Name       0.0\n",
      "Gender    40.0\n",
      "City      20.0\n",
      "dtype: float64\n"
     ]
    }
   ],
   "source": [
    "import pandas as pd\n",
    "\n",
    "# Sample Data\n",
    "data = {'Name': ['Alice', 'Bob', 'Charlie', 'David', 'Eve'],\n",
    "        'Gender': ['Female', 'Male', None, 'Male', None],\n",
    "        'City': ['New York', None, 'Los Angeles', 'Chicago', 'Chicago']}\n",
    "\n",
    "df = pd.DataFrame(data)\n",
    "\n",
    "# Count missing values\n",
    "print(df.isnull().sum())\n",
    "\n",
    "# Percentage of missing values\n",
    "print(df.isnull().sum() / len(df) * 100)\n",
    "\n"
   ]
  },
  {
   "cell_type": "markdown",
   "id": "595da18c-9b90-4ae6-bdbd-68a8477911de",
   "metadata": {},
   "source": [
    "📌 If the missing percentage is high (>20%), imputation is necessary!"
   ]
  },
  {
   "cell_type": "markdown",
   "id": "cb624f3d-d0e7-476f-9f9f-cae38f6ff627",
   "metadata": {},
   "source": [
    " # 🛠 **2. Methods to Handle Missing Categorical Data**\n",
    "\n",
    "Different methods apply depending on the missing data percentage and its pattern.\n",
    "\n",
    " ## 🔹 **A. Drop Missing Values (Only if Missingness is Low)**\n",
    "\n",
    " **Best when:** Missing values are very few (<5% of total data) and random (MCAR)."
   ]
  },
  {
   "cell_type": "code",
   "execution_count": 74,
   "id": "1f63a7a1-23ab-41ec-b21b-b11a7f26fa72",
   "metadata": {},
   "outputs": [],
   "source": [
    "df_dropped = df.dropna(subset=['Gender', 'City'])\n"
   ]
  },
  {
   "cell_type": "markdown",
   "id": "a0a64c1d-4775-4995-beea-cd1d835c12f1",
   "metadata": {},
   "source": [
    "✅ Simple and effective.\n",
    "    \n",
    "❌ Risk: Losing valuable data, especially if missing values are not random (MAR)."
   ]
  },
  {
   "cell_type": "markdown",
   "id": "c2bb6d71-b0ec-45eb-aca6-de2c904f0b9b",
   "metadata": {},
   "source": [
    " ## 🔹 B. **Fill Missing Values with Mode (Most Frequent Value)**\n",
    "\n",
    " **Best when:** A category is dominant and missing values are random."
   ]
  },
  {
   "cell_type": "code",
   "execution_count": 75,
   "id": "63b7706c-2e27-4f91-be3a-f04995bf4164",
   "metadata": {},
   "outputs": [],
   "source": [
    "# Fill missing values with Mode (Most Frequent Value)\n",
    "df['Gender'].fillna(df['Gender'].mode()[0], inplace=True)\n",
    "df['City'].fillna(df['City'].mode()[0], inplace=True)\n"
   ]
  },
  {
   "cell_type": "markdown",
   "id": "7390e74e-aaaa-4a61-93d3-a96aa158b51a",
   "metadata": {},
   "source": [
    "✅ Works well for low missingness and categorical data with one dominant category.\n",
    "    \n",
    "❌ Risk: If missing values are not random, mode imputation might introduce bias."
   ]
  },
  {
   "cell_type": "markdown",
   "id": "f376c628-152d-4d7d-a404-652bd5fc4ae6",
   "metadata": {},
   "source": [
    "## 🔹 **C. Fill Missing Values with a New Category (\"Unknown\"/\"Other\")**\n",
    "\n",
    "**Best when:** Missing values have meaning (e.g., survey responses not provided)."
   ]
  },
  {
   "cell_type": "code",
   "execution_count": 76,
   "id": "4a628ba8-5591-43a5-943f-f54fb603262d",
   "metadata": {},
   "outputs": [],
   "source": [
    "df['Gender'].fillna('Unknown', inplace=True)\n",
    "df['City'].fillna('Other', inplace=True)\n"
   ]
  },
  {
   "cell_type": "markdown",
   "id": "241daaa6-eae1-40e6-8c46-b0b32bbe01b8",
   "metadata": {},
   "source": [
    "✅ Retains data integrity without assuming incorrect values.\n",
    "    \n",
    "❌ Risk: Can affect analysis if \"Unknown\" behaves differently from real categories."
   ]
  },
  {
   "cell_type": "markdown",
   "id": "274e0f98-a68d-436b-ad4a-535169755c16",
   "metadata": {},
   "source": [
    " ## 🔹 **D. Fill Missing Values Using Predictive Modeling**\n",
    "\n",
    " **Best when:** Data is Missing at Random (MAR) (i.e., missingness is related to another variable).\n",
    "\n",
    "- Use classification models like K-Nearest Neighbors (KNN), Logistic Regression, or Decision Trees.\n",
    "\n",
    "1️⃣**Use KNN Imputation for Categorical Data**"
   ]
  },
  {
   "cell_type": "code",
   "execution_count": 77,
   "id": "1046b027-6469-407c-951f-cfa8b3976c79",
   "metadata": {},
   "outputs": [],
   "source": [
    "from sklearn.impute import KNNImputer\n",
    "from sklearn.preprocessing import LabelEncoder\n",
    "\n",
    "# Convert categorical variables to numeric\n",
    "encoder = LabelEncoder()\n",
    "df['Gender_encoded'] = encoder.fit_transform(df['Gender'].astype(str))  # Convert to numbers\n",
    "\n",
    "# Apply KNN Imputer\n",
    "imputer = KNNImputer(n_neighbors=3)\n",
    "df['Gender_imputed'] = imputer.fit_transform(df[['Gender_encoded']])\n",
    "\n",
    "# Convert back to categorical\n",
    "df['Gender'] = encoder.inverse_transform(df['Gender_imputed'].astype(int))\n",
    "df.drop(columns=['Gender_encoded', 'Gender_imputed'], inplace=True)\n"
   ]
  },
  {
   "cell_type": "markdown",
   "id": "c95a7b28-6ab4-48fb-8a16-89d7c7ead1a2",
   "metadata": {},
   "source": [
    "✅ More advanced and effective when missing values depend on other variables.\n",
    "    \n",
    "❌ Risk: Computationally expensive; needs sufficient data to work well."
   ]
  },
  {
   "cell_type": "markdown",
   "id": "6f2a3eae-cd65-4e6b-b37f-61545faaae06",
   "metadata": {},
   "source": [
    " ## 🔹 **E. Fill Missing Values Using Probabilistic Imputation**\n",
    "\n",
    "**Best when:** Data follows a specific pattern but is not predictable with features.\n",
    "\n",
    "- Assign missing values randomly based on existing category distribution."
   ]
  },
  {
   "cell_type": "code",
   "execution_count": 78,
   "id": "a3162257-3aab-4d75-8160-0439f0e90bc7",
   "metadata": {},
   "outputs": [],
   "source": [
    "import numpy as np\n",
    "\n",
    "# Fill missing 'City' based on probability distribution\n",
    "df['City'].fillna(np.random.choice(df['City'].dropna().unique()), inplace=True)\n"
   ]
  },
  {
   "cell_type": "markdown",
   "id": "1a25a8d0-b1aa-49ee-b5ed-dbb82439ef42",
   "metadata": {},
   "source": [
    "✅ Maintains distribution of existing data.\n",
    "\n",
    "❌ Risk: Introduces randomness that may not reflect true values."
   ]
  },
  {
   "cell_type": "markdown",
   "id": "ae9ff068-41de-4758-acf1-5acc7230c8e7",
   "metadata": {},
   "source": [
    " ### **✨ Key Insights**\n",
    "\n",
    "- Missing values are a common issue in real-world datasets.\n",
    "\n",
    "- Choosing the right method depends on the type of data and business problem.\n",
    "\n",
    "- Proper handling of missing values improves the quality of data and accuracy of machine learning models."
   ]
  },
  {
   "cell_type": "markdown",
   "id": "c4610564-1539-43c3-aab4-1c199253deda",
   "metadata": {},
   "source": [
    " ### **🙌 Acknowledgment**\n",
    "Thank you for exploring this notebook!\n",
    "\n",
    "If you found it useful, please upvote 👍 and leave a comment 💬 — feedback is always welcome!"
   ]
  },
  {
   "cell_type": "code",
   "execution_count": null,
   "id": "e80658d0-1ac5-4726-81e6-44b4ce78bda9",
   "metadata": {},
   "outputs": [],
   "source": []
  }
 ],
 "metadata": {
  "kernelspec": {
   "display_name": "Python 3 (ipykernel)",
   "language": "python",
   "name": "python3"
  },
  "language_info": {
   "codemirror_mode": {
    "name": "ipython",
    "version": 3
   },
   "file_extension": ".py",
   "mimetype": "text/x-python",
   "name": "python",
   "nbconvert_exporter": "python",
   "pygments_lexer": "ipython3",
   "version": "3.12.7"
  }
 },
 "nbformat": 4,
 "nbformat_minor": 5
}
